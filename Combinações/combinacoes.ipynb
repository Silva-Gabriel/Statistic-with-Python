{
 "cells": [
  {
   "cell_type": "markdown",
   "metadata": {},
   "source": [
    "<h1 style=\"color:blue;text-shadow:2px 2px 2px whitesmoke;text-align:center;\">Combinações</h1>"
   ]
  },
  {
   "cell_type": "code",
   "execution_count": 32,
   "metadata": {},
   "outputs": [],
   "source": [
    "alunos = int(input('Quantos alunos tem na classe? '))\n",
    "alunosSelecionados = int(input('Quantos alunos serão escolhidos ao mesmo tempo? '))"
   ]
  },
  {
   "cell_type": "code",
   "execution_count": 33,
   "metadata": {},
   "outputs": [],
   "source": [
    "def fatorial(alunos):\n",
    "    fatorialAlunos = 1\n",
    "    anterior = 0\n",
    "    resultado = ''\n",
    "    for aluno in range(alunos , 0, -1):\n",
    "        anterior = aluno\n",
    "        fatorialAlunos *= aluno\n",
    "        resultado += '{} x '.format(anterior)\n",
    "        anterior -= 1\n",
    "    return fatorialAlunos"
   ]
  },
  {
   "cell_type": "code",
   "execution_count": 40,
   "metadata": {},
   "outputs": [
    {
     "name": "stdout",
     "output_type": "stream",
     "text": [
      "Número de combinações possíveis: 28\n"
     ]
    }
   ],
   "source": [
    "resultadoComb = fatorial(alunos) // (fatorial(alunos-alunosSelecionados) * fatorial(alunosSelecionados))\n",
    "print('Número de combinações possíveis: {}'.format(resultadoComb))\n",
    "# Diferença entre combinação e permutação: A combinação não tem uma ordem específica, já a permutação tem ordem numérica"
   ]
  }
 ],
 "metadata": {
  "interpreter": {
   "hash": "7852ce70ecb3b194317af621db3f38a7e21c4dec5915f7b01fa3c8c10c3358a7"
  },
  "kernelspec": {
   "display_name": "Python 3.10.1 64-bit",
   "language": "python",
   "name": "python3"
  },
  "language_info": {
   "codemirror_mode": {
    "name": "ipython",
    "version": 3
   },
   "file_extension": ".py",
   "mimetype": "text/x-python",
   "name": "python",
   "nbconvert_exporter": "python",
   "pygments_lexer": "ipython3",
   "version": "3.10.1"
  },
  "orig_nbformat": 4
 },
 "nbformat": 4,
 "nbformat_minor": 2
}
