{
 "cells": [
  {
   "cell_type": "markdown",
   "metadata": {},
   "source": [
    "<h1 style=\"color:royalblue;text-shadow: 2px 2px 2px rgba(0,0,0,.90);text-align:center;\" >Calculando o desvio padrão</h1>"
   ]
  },
  {
   "cell_type": "markdown",
   "metadata": {},
   "source": [
    "<h2 style=\"color:whitesmoke; text-shadow:2px 2px 2px rgba(0,0,0,.90)\" >Desvio padrão Para um conjunto de dados amotral</h2>"
   ]
  },
  {
   "cell_type": "code",
   "execution_count": 3,
   "metadata": {},
   "outputs": [
    {
     "name": "stdout",
     "output_type": "stream",
     "text": [
      "Conjunto de dados: [2.0, 10.0, 9.0, 8.0, 160.0]\n"
     ]
    }
   ],
   "source": [
    "# Passo 1 - Determinar um conjunto de dados\n",
    "dataset = []\n",
    "while True:\n",
    "    dado = input('''Insira um número: Para adiciona-lo ao conjunto de dados...'\n",
    "                    Insira uma letra: Quando os dados forem suficientes''')\n",
    "    if(dado.isnumeric()):\n",
    "        dado = float(dado)\n",
    "    elif(type(type(dado) == str)):\n",
    "        break\n",
    "    dataset.append(dado)\n",
    "print('Conjunto de dados: {}'.format(dataset))"
   ]
  },
  {
   "cell_type": "code",
   "execution_count": 4,
   "metadata": {},
   "outputs": [
    {
     "name": "stdout",
     "output_type": "stream",
     "text": [
      "Média: 37.8\n"
     ]
    }
   ],
   "source": [
    "# Passo 2 - Obter a média dos valores do conjunto de dados\n",
    "meandataset = sum(dataset)/len(dataset)\n",
    "print('Média: {}'.format(meandataset))"
   ]
  },
  {
   "cell_type": "code",
   "execution_count": 5,
   "metadata": {},
   "outputs": [
    {
     "name": "stdout",
     "output_type": "stream",
     "text": [
      "[1281.6399999999999, 772.8399999999998, 829.4399999999998, 888.0399999999998, 14932.84]\n"
     ]
    }
   ],
   "source": [
    "# Passo 3 - Obter o quadrado da distância entre cada ponto e a média\n",
    "squaredata = []\n",
    "from math import pow\n",
    "for dados in dataset:\n",
    "    squaredata.append(pow(dados - meandataset ,2))\n",
    "print(squaredata)"
   ]
  },
  {
   "cell_type": "code",
   "execution_count": 6,
   "metadata": {},
   "outputs": [
    {
     "name": "stdout",
     "output_type": "stream",
     "text": [
      "Soma: 18704.8\n"
     ]
    }
   ],
   "source": [
    "# Passo 4 - Obter a somatória dos valores da lista\n",
    "#somatoria = sum(squaredata) --> Uma forma simplificada\n",
    "somatoria = 0\n",
    "count = 0\n",
    "for soma in range(0, len(squaredata)):\n",
    "    somatoria += squaredata[soma]\n",
    "    count += 1\n",
    "    \n",
    "print('Soma: {}'.format(somatoria))"
   ]
  },
  {
   "cell_type": "code",
   "execution_count": 7,
   "metadata": {},
   "outputs": [
    {
     "data": {
      "text/plain": [
       "4676.2"
      ]
     },
     "execution_count": 7,
     "metadata": {},
     "output_type": "execute_result"
    }
   ],
   "source": [
    "# Passo 5 - Obter o resultado dividindo a somatória pelo número de elementos do conjunto menos 1, por ser uma amostra\n",
    "s = somatoria/(len(squaredata)-1)\n",
    "s"
   ]
  },
  {
   "cell_type": "code",
   "execution_count": 8,
   "metadata": {},
   "outputs": [
    {
     "name": "stdout",
     "output_type": "stream",
     "text": [
      "Desvio padrão: 68.38\n"
     ]
    }
   ],
   "source": [
    "# Passo  6 - Calcular a raiz quadrada do resultado\n",
    "from math import sqrt\n",
    "s = sqrt(s)\n",
    "print('Desvio padrão: {:.2f}'.format(s))"
   ]
  },
  {
   "cell_type": "markdown",
   "metadata": {},
   "source": [
    "<h1 style=\"color:red;text-shadow:2px 1px 2px whitesmoke;\">Escore-z</h1>"
   ]
  },
  {
   "cell_type": "code",
   "execution_count": 9,
   "metadata": {},
   "outputs": [
    {
     "name": "stdout",
     "output_type": "stream",
     "text": [
      "Conjunto de dados:  [2.0, 10.0, 9.0, 8.0, 160.0]\n"
     ]
    }
   ],
   "source": [
    "# Passo 1 - Definir um número a ser testado\n",
    "print('Conjunto de dados: ',dataset)\n",
    "numeroTeste = int(input('Escolha um número do conjunto de dados para testar o Escore-z: '))\n",
    "while (numeroTeste not in dataset):\n",
    "    numeroTeste = int(input('Por favor,escolha um número que esteja dentro do conjunto de dados: '))\n"
   ]
  },
  {
   "cell_type": "code",
   "execution_count": 19,
   "metadata": {},
   "outputs": [
    {
     "name": "stdout",
     "output_type": "stream",
     "text": [
      "Escore-Z do ponto 2 = -0.523523869756871\n"
     ]
    }
   ],
   "source": [
    "# Passo 2 - Calcular o Escore-z\n",
    "escoreZ = (numeroTeste - meandataset)/s\n",
    "print('Escore-Z do ponto {} = {}'.format(numeroTeste, escoreZ))"
   ]
  },
  {
   "cell_type": "code",
   "execution_count": 21,
   "metadata": {},
   "outputs": [
    {
     "name": "stdout",
     "output_type": "stream",
     "text": [
      "O valor 2 está a 0.523523869756871 desvios padrão abaixo da média\n"
     ]
    }
   ],
   "source": [
    "# Passo 3 - Resposta do Escore-z\n",
    "if(escoreZ > 0):\n",
    "    print('O valor {} está a {} desvios padrão acima da média'.format(numeroTeste,escoreZ))\n",
    "elif(escoreZ < 0):\n",
    "    print('O valor {} está a {} desvios padrão abaixo da média'.format(numeroTeste,escoreZ*(-1)))\n",
    "else:\n",
    "    print('Valor igual a média')"
   ]
  }
 ],
 "metadata": {
  "interpreter": {
   "hash": "7852ce70ecb3b194317af621db3f38a7e21c4dec5915f7b01fa3c8c10c3358a7"
  },
  "kernelspec": {
   "display_name": "Python 3.10.1 64-bit",
   "language": "python",
   "name": "python3"
  },
  "language_info": {
   "codemirror_mode": {
    "name": "ipython",
    "version": 3
   },
   "file_extension": ".py",
   "mimetype": "text/x-python",
   "name": "python",
   "nbconvert_exporter": "python",
   "pygments_lexer": "ipython3",
   "version": "3.10.1"
  },
  "orig_nbformat": 4
 },
 "nbformat": 4,
 "nbformat_minor": 2
}
