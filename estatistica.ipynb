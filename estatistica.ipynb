{
 "cells": [
  {
   "cell_type": "markdown",
   "metadata": {},
   "source": [
    "<h1 style=\"color:royalblue;text-shadow: 2px 2px 2px rgba(0,0,0,.90);\" >Calculando o desvio padrão</h1>"
   ]
  },
  {
   "cell_type": "markdown",
   "metadata": {},
   "source": [
    "<h2 style=\"color:whitesmoke; text-shadow:2px 2px 2px rgba(0,0,0,.90)\" >Desvio padrão Para um conjunto de dados populacional</h2>"
   ]
  },
  {
   "cell_type": "code",
   "execution_count": 187,
   "metadata": {},
   "outputs": [
    {
     "data": {
      "text/plain": [
       "[6.0, 5.0, 13.0, 8.0]"
      ]
     },
     "execution_count": 187,
     "metadata": {},
     "output_type": "execute_result"
    }
   ],
   "source": [
    "\n",
    "# Passo 1 - Determinar um conjunto de dados\n",
    "dataset = []\n",
    "while True:\n",
    "    dado = input('Insira um número no conjunto de dados ou uma letra se os dados forem suficientes\\n')\n",
    "    if(dado.isnumeric()):\n",
    "        dado = float(dado)\n",
    "    elif(type(type(dado) == str)):\n",
    "        break\n",
    "    dataset.append(dado)\n",
    "dataset\n",
    "    \n"
   ]
  },
  {
   "cell_type": "code",
   "execution_count": 188,
   "metadata": {},
   "outputs": [
    {
     "data": {
      "text/plain": [
       "8.0"
      ]
     },
     "execution_count": 188,
     "metadata": {},
     "output_type": "execute_result"
    }
   ],
   "source": [
    "# Passo 2 - Obter a média dos valores do conjunto de dados\n",
    "meandataset = sum(dataset)/len(dataset)\n",
    "meandataset"
   ]
  },
  {
   "cell_type": "code",
   "execution_count": 189,
   "metadata": {},
   "outputs": [
    {
     "name": "stdout",
     "output_type": "stream",
     "text": [
      "[4.0, 9.0, 25.0, 0.0]\n"
     ]
    }
   ],
   "source": [
    "# Passo 3 - Obter o quadrado da distância entre cada ponto e a média\n",
    "squaredata = []\n",
    "from math import pow\n",
    "for dados in dataset:\n",
    "    squaredata.append(pow(dados - meandataset ,2))\n",
    "print(squaredata)"
   ]
  },
  {
   "cell_type": "code",
   "execution_count": 190,
   "metadata": {},
   "outputs": [
    {
     "data": {
      "text/plain": [
       "38.0"
      ]
     },
     "execution_count": 190,
     "metadata": {},
     "output_type": "execute_result"
    }
   ],
   "source": [
    "# Passo 4 - Obter a somatória dos valores da lista\n",
    "#somatoria = sum(squaredata) --> Uma forma simplificada\n",
    "somatoria = 0\n",
    "count = 0\n",
    "for soma in range(0, len(squaredata)):\n",
    "    somatoria += squaredata[soma]\n",
    "    count += 1\n",
    "    \n",
    "somatoria\n"
   ]
  },
  {
   "cell_type": "code",
   "execution_count": 191,
   "metadata": {},
   "outputs": [
    {
     "data": {
      "text/plain": [
       "9.5"
      ]
     },
     "execution_count": 191,
     "metadata": {},
     "output_type": "execute_result"
    }
   ],
   "source": [
    "# Passo 5 - Obter o resultado dividindo a somatória pelo número de elementos do conjunto\n",
    "s = somatoria/len(squaredata)\n",
    "s"
   ]
  },
  {
   "cell_type": "code",
   "execution_count": 192,
   "metadata": {},
   "outputs": [
    {
     "name": "stdout",
     "output_type": "stream",
     "text": [
      "3.08\n"
     ]
    }
   ],
   "source": [
    "# Passo  6 - Calcular a raiz quadrada do resultado\n",
    "from math import sqrt\n",
    "s = sqrt(s)\n",
    "print('{:.2f}'.format(s))\n"
   ]
  }
 ],
 "metadata": {
  "interpreter": {
   "hash": "7852ce70ecb3b194317af621db3f38a7e21c4dec5915f7b01fa3c8c10c3358a7"
  },
  "kernelspec": {
   "display_name": "Python 3.10.1 64-bit",
   "language": "python",
   "name": "python3"
  },
  "language_info": {
   "codemirror_mode": {
    "name": "ipython",
    "version": 3
   },
   "file_extension": ".py",
   "mimetype": "text/x-python",
   "name": "python",
   "nbconvert_exporter": "python",
   "pygments_lexer": "ipython3",
   "version": "3.10.1"
  },
  "orig_nbformat": 4
 },
 "nbformat": 4,
 "nbformat_minor": 2
}
