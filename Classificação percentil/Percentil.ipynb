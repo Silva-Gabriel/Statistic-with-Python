{
 "cells": [
  {
   "cell_type": "markdown",
   "metadata": {},
   "source": []
  },
  {
   "cell_type": "code",
   "execution_count": 1,
   "metadata": {},
   "outputs": [
    {
     "name": "stdout",
     "output_type": "stream",
     "text": [
      "Conjunto de dados: [85.0, 81.0, 77.0, 75.0, 69.0, 68.0, 64.0, 63.0, 58.0, 55.0]\n"
     ]
    }
   ],
   "source": [
    "# Passo 1 - Determinar um conjunto de dados\n",
    "dataset = []\n",
    "while True:\n",
    "    dado = input('''Insira um número: Para adiciona-lo ao conjunto de dados...'\n",
    "                    Insira uma letra: Quando os dados forem suficientes''')\n",
    "    if(dado.isnumeric()):\n",
    "        dado = float(dado)\n",
    "    elif(type(type(dado) == str)):\n",
    "        break\n",
    "    dataset.append(dado)\n",
    "print('Conjunto de dados: {}'.format(dataset))"
   ]
  },
  {
   "cell_type": "code",
   "execution_count": 2,
   "metadata": {},
   "outputs": [],
   "source": [
    "# Passo 2 - Determinar o valor a ser classificado\n",
    "value = float(input('Insira um valor do conjunto de dados para ser classificado: '))\n",
    "while(value not in dataset):\n",
    "   value = float(input('Por favor, selecione um valor que contenha no conjunto de dados: '))"
   ]
  },
  {
   "cell_type": "code",
   "execution_count": 3,
   "metadata": {},
   "outputs": [
    {
     "name": "stdout",
     "output_type": "stream",
     "text": [
      "9\n"
     ]
    }
   ],
   "source": [
    "# Passo 3 - Determinar a quantidade de elementos com valores abaixo do valor a ser classificado\n",
    "countValue = 0\n",
    "for valueTest in range(1, len(dataset)):\n",
    "    if(valueTest < value):\n",
    "        countValue += 1\n",
    "print(countValue)\n"
   ]
  },
  {
   "cell_type": "code",
   "execution_count": 5,
   "metadata": {},
   "outputs": [
    {
     "name": "stdout",
     "output_type": "stream",
     "text": [
      "O valor 58.0 está no 95º percentil\n"
     ]
    }
   ],
   "source": [
    "# Passo 4 - Calcular a classificação percentil\n",
    "classPercent = ((countValue + 0.5)/len(dataset))*100\n",
    "print('O valor {} está no {}º percentil'.format(value, int(classPercent)))"
   ]
  }
 ],
 "metadata": {
  "interpreter": {
   "hash": "7852ce70ecb3b194317af621db3f38a7e21c4dec5915f7b01fa3c8c10c3358a7"
  },
  "kernelspec": {
   "display_name": "Python 3.10.1 64-bit",
   "language": "python",
   "name": "python3"
  },
  "language_info": {
   "codemirror_mode": {
    "name": "ipython",
    "version": 3
   },
   "file_extension": ".py",
   "mimetype": "text/x-python",
   "name": "python",
   "nbconvert_exporter": "python",
   "pygments_lexer": "ipython3",
   "version": "3.10.1"
  },
  "orig_nbformat": 4
 },
 "nbformat": 4,
 "nbformat_minor": 2
}
