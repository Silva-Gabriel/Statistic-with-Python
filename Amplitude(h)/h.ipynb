{
 "cells": [
  {
   "cell_type": "markdown",
   "metadata": {},
   "source": [
    "<h1 style=\"color:rgba(0,0,0,.55);text-shadow:2px 2px 2px whitesmoke;text-align:center;\">Cálculo da amplitude</h1>"
   ]
  },
  {
   "cell_type": "code",
   "execution_count": 13,
   "metadata": {},
   "outputs": [
    {
     "name": "stdout",
     "output_type": "stream",
     "text": [
      "Conjunto de dados: [3.0, 5.0, 7.0, 10.0, 3.0, 3.0, 9.0, 2.0, 5.0, 10.0, 9.0]\n"
     ]
    }
   ],
   "source": [
    "# Passo 1 - Determinar um conjunto de dados\n",
    "dataset = []\n",
    "while True:\n",
    "    dado = input('Insira um número no conjunto de dados ou uma letra se os dados forem suficientes\\n')\n",
    "    if(dado.isnumeric()):\n",
    "        dado = float(dado)\n",
    "    elif(type(type(dado) == str)):\n",
    "        break\n",
    "    dataset.append(dado)\n",
    "print('Conjunto de dados: {}'.format(dataset))"
   ]
  },
  {
   "cell_type": "code",
   "execution_count": 14,
   "metadata": {},
   "outputs": [],
   "source": [
    "# Passo 2 - Organizar os dados em rol\n",
    "dataset.sort()\n"
   ]
  },
  {
   "cell_type": "code",
   "execution_count": 15,
   "metadata": {},
   "outputs": [
    {
     "name": "stdout",
     "output_type": "stream",
     "text": [
      "Menor: 2.0\n",
      "Maior: 10.0\n"
     ]
    }
   ],
   "source": [
    "# Passo 3 - Identificar o menor e maior valor dentro do conjunto\n",
    "menor = dataset[0]\n",
    "maior = dataset[-1]\n",
    "print('Menor: {}\\nMaior: {}'.format(menor, maior))\n"
   ]
  },
  {
   "cell_type": "code",
   "execution_count": 16,
   "metadata": {},
   "outputs": [
    {
     "name": "stdout",
     "output_type": "stream",
     "text": [
      "Amplitude = 8.0\n"
     ]
    }
   ],
   "source": [
    "# Passo 4 - Subtrair o maior do menor para encontrar a amplitude\n",
    "h = maior - menor\n",
    "print('Amplitude = {}'.format(h))"
   ]
  }
 ],
 "metadata": {
  "interpreter": {
   "hash": "7852ce70ecb3b194317af621db3f38a7e21c4dec5915f7b01fa3c8c10c3358a7"
  },
  "kernelspec": {
   "display_name": "Python 3.10.1 64-bit",
   "language": "python",
   "name": "python3"
  },
  "language_info": {
   "codemirror_mode": {
    "name": "ipython",
    "version": 3
   },
   "file_extension": ".py",
   "mimetype": "text/x-python",
   "name": "python",
   "nbconvert_exporter": "python",
   "pygments_lexer": "ipython3",
   "version": "3.10.1"
  },
  "orig_nbformat": 4
 },
 "nbformat": 4,
 "nbformat_minor": 2
}
