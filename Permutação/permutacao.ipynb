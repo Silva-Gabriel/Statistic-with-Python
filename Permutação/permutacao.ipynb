{
 "cells": [
  {
   "cell_type": "markdown",
   "metadata": {},
   "source": [
    "<h1 style=\"color:lightgray;text-shadow:2px 2px 2px rgba(0,0,0,.75); text-align:center;\">Permutações de concorrência</h1>"
   ]
  },
  {
   "cell_type": "code",
   "execution_count": 8,
   "metadata": {},
   "outputs": [],
   "source": [
    "# Passo 1 - Definir o número total de objetos o exemplo será com corredores de maratona\n",
    "corredores = int(input('Quantos pessoas estão correndo na maratona? '))"
   ]
  },
  {
   "cell_type": "code",
   "execution_count": 9,
   "metadata": {},
   "outputs": [],
   "source": [
    "# Passo 2 - Definir quantos corredores serão premiados a medida que passam a linha de chegada\n",
    "corredoresSelecionados = int(input('Quantos serão premiados pelos primeiros lugares? '))"
   ]
  },
  {
   "cell_type": "code",
   "execution_count": 91,
   "metadata": {},
   "outputs": [],
   "source": [
    "# Passo 3 - Calcular o fatorial de n, no caso o total de objetos, nesse caso, os corredores\n",
    "def fatorial(corredores):\n",
    "    fatorialCorredor = 1\n",
    "    anterior = 0\n",
    "    resultado = ''\n",
    "    for corredor in range(corredores , 0, -1):\n",
    "        anterior = corredor\n",
    "        fatorialCorredor *= corredor\n",
    "        resultado += '{} x '.format(anterior)\n",
    "        anterior -= 1\n",
    "    print('{} = {}'.format(resultado[:len(resultado)-2:],fatorialCorredor),end=' ')\n",
    "    return fatorialCorredor"
   ]
  },
  {
   "cell_type": "code",
   "execution_count": 104,
   "metadata": {},
   "outputs": [
    {
     "name": "stdout",
     "output_type": "stream",
     "text": [
      "Número de permutações da quantidade de corredores:  6 x 5 x 4 x 3 x 2 x 1  = 720 \n",
      "Número de permutações dos premiados em função da quantidade de corredores:  3 x 2 x 1  = 6 "
     ]
    }
   ],
   "source": [
    "# Passo 4 - Subtrair o total de corredores, pelo número de corredores a serem premiados\n",
    "print('Número de permutações da quantidade de corredores: ', end=' ')\n",
    "fatorialCorredores = fatorial(corredores)\n",
    "print()\n",
    "premiados = int(input('Qual o total de premiados? '))\n",
    "print('Número de permutações dos premiados em função da quantidade de corredores: ',end=' ')\n",
    "fatorialPremiados = fatorial(corredores-premiados)\n",
    "\n"
   ]
  },
  {
   "cell_type": "code",
   "execution_count": 105,
   "metadata": {},
   "outputs": [
    {
     "name": "stdout",
     "output_type": "stream",
     "text": [
      "\n",
      "Total: 120\n"
     ]
    }
   ],
   "source": [
    "# Passo 5 - Dividir o total de permutações dos corredores pelo total permutações de premiados\n",
    "totalPermutacoes = fatorialCorredores // fatorialPremiados\n",
    "print('\\nTotal: {}'.format(totalPermutacoes))"
   ]
  }
 ],
 "metadata": {
  "interpreter": {
   "hash": "7852ce70ecb3b194317af621db3f38a7e21c4dec5915f7b01fa3c8c10c3358a7"
  },
  "kernelspec": {
   "display_name": "Python 3.10.1 64-bit",
   "language": "python",
   "name": "python3"
  },
  "language_info": {
   "codemirror_mode": {
    "name": "ipython",
    "version": 3
   },
   "file_extension": ".py",
   "mimetype": "text/x-python",
   "name": "python",
   "nbconvert_exporter": "python",
   "pygments_lexer": "ipython3",
   "version": "3.10.1"
  },
  "orig_nbformat": 4
 },
 "nbformat": 4,
 "nbformat_minor": 2
}
